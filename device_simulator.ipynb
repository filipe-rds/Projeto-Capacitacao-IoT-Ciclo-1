{
  "nbformat": 4,
  "nbformat_minor": 0,
  "metadata": {
    "colab": {
      "provenance": [],
      "authorship_tag": "ABX9TyPyj32xYcgpnbgWLlncH1vA",
      "include_colab_link": true
    },
    "kernelspec": {
      "name": "python3",
      "display_name": "Python 3"
    },
    "language_info": {
      "name": "python"
    }
  },
  "cells": [
    {
      "cell_type": "markdown",
      "metadata": {
        "id": "view-in-github",
        "colab_type": "text"
      },
      "source": [
        "<a href=\"https://colab.research.google.com/github/filipe-rds/Projeto_Capacitacao_IoT_Ciclo_1/blob/main/device_simulator.ipynb\" target=\"_parent\"><img src=\"https://colab.research.google.com/assets/colab-badge.svg\" alt=\"Open In Colab\"/></a>"
      ]
    },
    {
      "cell_type": "markdown",
      "metadata": {
        "id": "67d98YQ9Em9J"
      },
      "source": [
        "# 📜 Projeto Final - Capacitação IoT (Ciclo 1)\n",
        "# 🎓 Aluno: Filipe da Silva Rodrigues"
      ]
    },
    {
      "cell_type": "markdown",
      "source": [
        "## 💻 Simulador do dispositivo IoT"
      ],
      "metadata": {
        "id": "LVf69VyQ2XQk"
      }
    },
    {
      "cell_type": "code",
      "execution_count": null,
      "metadata": {
        "id": "IhMbK2H6Wr-P"
      },
      "outputs": [],
      "source": [
        "\"\"\"\n",
        "import argparse\n",
        "\n",
        "# Construct the argument parser\n",
        "ap = argparse.ArgumentParser()\n",
        "\n",
        "# Add the arguments to the parser\n",
        "ap.add_argument(\"-a\", \"--address\", required=True,\n",
        "   help=\"Server IP Address or URL\")\n",
        "ap.add_argument(\"-p\", \"--port\", required=True,\n",
        "   help=\"Server Port\")\n",
        "ap.add_argument(\"-d\", \"--deviceid\", required=True,\n",
        "   help=\"Device ID\")\n",
        "\n",
        "args = vars(ap.parse_args())\n",
        "\n",
        "\n",
        "HOST = args['address']\n",
        "PORT = int(args['port'])\n",
        "device_id = args['deviceid']\n",
        "\"\"\"\n",
        "\n",
        "import socket\n",
        "import time\n",
        "import numpy as np\n",
        "\n",
        "\n",
        "HOST = 'playback.laced.com.br'\n",
        "PORT = 50000\n",
        "device_id = '20222370009'\n",
        "\n",
        "# Criar um socket\n",
        "sock = socket.socket(socket.AF_INET, socket.SOCK_STREAM)\n",
        "\n",
        "# Conectar-se ao host e à porta remotos\n",
        "sock.connect((HOST, PORT))\n",
        "\n",
        "print(\"Conectado\")\n",
        "\n",
        "# Enviar uma solicitação ao host\n",
        "sock.send((device_id + \"\\n\").encode()[:-1])\n",
        "\n",
        "# Obter a resposta do host, no máximo, digamos, 1.024 bytes\n",
        "response_data = sock.recv(1024)\n",
        "\n",
        "sresponse = response_data.decode(\"utf-8\")\n",
        "print(sresponse)\n",
        "\n",
        "if sresponse == \"fail\":\n",
        "    sock.close()\n",
        "    exit()\n",
        "\n",
        "# Enviar valores\n",
        "for i in range(50):\n",
        "    temp = np.random.uniform(15, 32)\n",
        "    temp = round(temp,2)\n",
        "\n",
        "    print(f\"Dado Enviado: {temp:.2f} ℃\")\n",
        "    sock.send((str(temp) + \"\\n\").encode()[:-1])\n",
        "    time.sleep(1)\n",
        "\n",
        "sock.send((\"alive\" + \"\\n\").encode()[:-1])\n",
        "\n",
        "# Obter a resposta do host, no máximo, digamos, 1.024 bytes\n",
        "response_data = sock.recv(1024)\n",
        "\n",
        "sresponse = response_data.decode(\"utf-8\")\n",
        "print(sresponse)\n",
        "\n",
        "if sresponse == \"fail\":\n",
        "    sock.close()\n",
        "    exit()\n",
        "\n",
        "# Encerrar\n",
        "sock.close()"
      ]
    }
  ]
}