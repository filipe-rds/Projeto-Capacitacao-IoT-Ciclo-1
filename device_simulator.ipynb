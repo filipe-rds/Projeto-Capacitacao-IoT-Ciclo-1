{
  "nbformat": 4,
  "nbformat_minor": 0,
  "metadata": {
    "colab": {
      "provenance": [],
      "authorship_tag": "ABX9TyOaL72PdiVpC0e+DGTNtNNh",
      "include_colab_link": true
    },
    "kernelspec": {
      "name": "python3",
      "display_name": "Python 3"
    },
    "language_info": {
      "name": "python"
    }
  },
  "cells": [
    {
      "cell_type": "markdown",
      "metadata": {
        "id": "view-in-github",
        "colab_type": "text"
      },
      "source": [
        "<a href=\"https://colab.research.google.com/github/filipe-rds/Projeto_Capacitacao_IoT_Ciclo_1/blob/main/device_simulator.ipynb\" target=\"_parent\"><img src=\"https://colab.research.google.com/assets/colab-badge.svg\" alt=\"Open In Colab\"/></a>"
      ]
    },
    {
      "cell_type": "code",
      "execution_count": 1,
      "metadata": {
        "colab": {
          "base_uri": "https://localhost:8080/",
          "height": 282
        },
        "id": "IhMbK2H6Wr-P",
        "outputId": "0d071bdd-6f4c-4697-d422-16e4ce6e7c80"
      },
      "outputs": [
        {
          "output_type": "stream",
          "name": "stdout",
          "text": [
            "conectado\n",
            "ok\n"
          ]
        },
        {
          "output_type": "error",
          "ename": "NameError",
          "evalue": "ignored",
          "traceback": [
            "\u001b[0;31m---------------------------------------------------------------------------\u001b[0m",
            "\u001b[0;31mNameError\u001b[0m                                 Traceback (most recent call last)",
            "\u001b[0;32m<ipython-input-1-5e4c8cf1834e>\u001b[0m in \u001b[0;36m<cell line: 52>\u001b[0;34m()\u001b[0m\n\u001b[1;32m     51\u001b[0m \u001b[0;31m#sending values\u001b[0m\u001b[0;34m\u001b[0m\u001b[0;34m\u001b[0m\u001b[0m\n\u001b[1;32m     52\u001b[0m \u001b[0;32mfor\u001b[0m \u001b[0mi\u001b[0m \u001b[0;32min\u001b[0m \u001b[0mrange\u001b[0m\u001b[0;34m(\u001b[0m\u001b[0;36m100\u001b[0m\u001b[0;34m)\u001b[0m\u001b[0;34m:\u001b[0m\u001b[0;34m\u001b[0m\u001b[0;34m\u001b[0m\u001b[0m\n\u001b[0;32m---> 53\u001b[0;31m     \u001b[0mtemp\u001b[0m \u001b[0;34m=\u001b[0m \u001b[0mnp\u001b[0m\u001b[0;34m.\u001b[0m\u001b[0mrandom\u001b[0m\u001b[0;34m.\u001b[0m\u001b[0mrandint\u001b[0m\u001b[0;34m(\u001b[0m\u001b[0;36m15\u001b[0m\u001b[0;34m,\u001b[0m \u001b[0;36m35\u001b[0m\u001b[0;34m,\u001b[0m \u001b[0;36m1\u001b[0m\u001b[0;34m)\u001b[0m\u001b[0;34m\u001b[0m\u001b[0;34m\u001b[0m\u001b[0m\n\u001b[0m\u001b[1;32m     54\u001b[0m \u001b[0;34m\u001b[0m\u001b[0m\n\u001b[1;32m     55\u001b[0m     \u001b[0mprint\u001b[0m\u001b[0;34m(\u001b[0m\u001b[0;34mf\"Dado Enviado: {temp[0]} ℃\"\u001b[0m\u001b[0;34m)\u001b[0m\u001b[0;34m\u001b[0m\u001b[0;34m\u001b[0m\u001b[0m\n",
            "\u001b[0;31mNameError\u001b[0m: name 'np' is not defined"
          ]
        }
      ],
      "source": [
        "import socket\n",
        "import time\n",
        "import numpy as np\n",
        "\n",
        "\"\"\"\n",
        "import argparse\n",
        "\n",
        "# Construct the argument parser\n",
        "ap = argparse.ArgumentParser()\n",
        "\n",
        "# Add the arguments to the parser\n",
        "ap.add_argument(\"-a\", \"--address\", required=True,\n",
        "   help=\"Server IP Address or URL\")\n",
        "ap.add_argument(\"-p\", \"--port\", required=True,\n",
        "   help=\"Server Port\")\n",
        "ap.add_argument(\"-d\", \"--deviceid\", required=True,\n",
        "   help=\"Device ID\")\n",
        "\n",
        "args = vars(ap.parse_args())\n",
        "\n",
        "\n",
        "HOST = args['address']\n",
        "PORT = int(args['port'])\n",
        "device_id = args['deviceid']\n",
        "\"\"\"\n",
        "\n",
        "HOST = 'playback.laced.com.br'\n",
        "PORT = 50000\n",
        "device_id = '20222370009'\n",
        "\n",
        "# Create a socket\n",
        "sock = socket.socket(socket.AF_INET, socket.SOCK_STREAM)\n",
        "\n",
        "# Connect to the remote host and port\n",
        "sock.connect((HOST, PORT))\n",
        "\n",
        "print(\"conectado\")\n",
        "\n",
        "# Send a request to the host\n",
        "sock.send((device_id+\"\\n\").encode()[:-1])\n",
        "\n",
        "# Get the host's response, no more than, say, 1,024 bytes\n",
        "response_data = sock.recv(1024)\n",
        "\n",
        "sresponse = response_data.decode(\"utf-8\")\n",
        "print(sresponse)\n",
        "\n",
        "if(sresponse == \"fail\"):\n",
        "   sock.close()\n",
        "   exit()\n",
        "\n",
        "#sending values\n",
        "for i in range(100):\n",
        "    temp = np.random.randint(15, 35, 1)\n",
        "\n",
        "    print(f\"Dado Enviado: {temp[0]} ℃\")\n",
        "    sock.send((str(temp[0])+\"\\n\").encode()[:-1])\n",
        "    time.sleep(1)\n",
        "\n",
        "sock.send((\"alive\"+\"\\n\").encode()[:-1])\n",
        "\n",
        "# Get the host's response, no more than, say, 1,024 bytes\n",
        "response_data = sock.recv(1024)\n",
        "\n",
        "sresponse = response_data.decode(\"utf-8\")\n",
        "print(sresponse)\n",
        "\n",
        "if(sresponse == \"fail\"):\n",
        "   sock.close()\n",
        "   exit()\n",
        "\n",
        "# Terminate\n",
        "sock.close( )"
      ]
    }
  ]
}